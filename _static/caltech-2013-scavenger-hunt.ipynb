{
 "metadata": {
  "name": "caltech-2013-scavenger-hunt"
 },
 "nbformat": 3,
 "nbformat_minor": 0,
 "worksheets": [
  {
   "cells": [
    {
     "cell_type": "code",
     "collapsed": false,
     "input": "cd /mnt/scavenger-hunt",
     "language": "python",
     "metadata": {},
     "outputs": []
    },
    {
     "cell_type": "markdown",
     "metadata": {},
     "source": "## First, grab some code from the digital normalization paper for making simulated genomes & reads."
    },
    {
     "cell_type": "code",
     "collapsed": false,
     "input": "!git clone git://github.com/ged-lab/2012-paper-diginorm.git",
     "language": "python",
     "metadata": {},
     "outputs": []
    },
    {
     "cell_type": "code",
     "collapsed": false,
     "input": "mkdir kmer",
     "language": "python",
     "metadata": {},
     "outputs": []
    },
    {
     "cell_type": "code",
     "collapsed": false,
     "input": "cd kmer",
     "language": "python",
     "metadata": {},
     "outputs": []
    },
    {
     "cell_type": "markdown",
     "metadata": {},
     "source": "## Now, use khmer to load all the 20-mers in the reads into a counting data structure.\n\nThe counting data structure is saved as counts.kh.  Other parameters explained in:\n\nhttp://readthedocs.org/docs/khmer/en/latest/scripts.html"
    },
    {
     "cell_type": "code",
     "collapsed": false,
     "input": "!python /usr/local/share/khmer/scripts/load-into-counting.py -x 1e8 -N 4 -k 20 counts.kh ../scavenger_reads.fa",
     "language": "python",
     "metadata": {},
     "outputs": []
    },
    {
     "cell_type": "markdown",
     "metadata": {},
     "source": "## Get the abundance distribution of the k-mers in the reads"
    },
    {
     "cell_type": "code",
     "collapsed": false,
     "input": "!python /usr/local/src/khmer/scripts/abundance-dist.py -s counts.kh ../scavenger_reads.fa reads.dist",
     "language": "python",
     "metadata": {},
     "outputs": []
    },
    {
     "cell_type": "markdown",
     "metadata": {},
     "source": "## The output is in 'reads.dist'\n\nColumn 0 is the k-mer count; column 1 is the number of k-mers with that count; column 2 is the running total of column 1; and column 3 is the fraction of totla in column 2."
    },
    {
     "cell_type": "code",
     "collapsed": false,
     "input": "!head reads.dist",
     "language": "python",
     "metadata": {},
     "outputs": []
    },
    {
     "cell_type": "markdown",
     "metadata": {},
     "source": "## Now, plot the abundance distribution"
    },
    {
     "cell_type": "code",
     "collapsed": false,
     "input": "x = []\ny = []\nfor line in open('reads.dist'):\n    count, num, total, frac = line.split()\n    x.append(int(count))\n    y.append(int(num))",
     "language": "python",
     "metadata": {},
     "outputs": []
    },
    {
     "cell_type": "markdown",
     "metadata": {},
     "source": "## Reads with errors have many k-mers with abundance=1."
    },
    {
     "cell_type": "code",
     "collapsed": false,
     "input": "plot(x, y)\naxis(ymax=1000)",
     "language": "python",
     "metadata": {},
     "outputs": []
    }
   ],
   "metadata": {}
  }
 ]
}